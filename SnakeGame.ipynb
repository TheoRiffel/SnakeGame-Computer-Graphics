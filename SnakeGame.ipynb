{
 "cells": [
  {
   "cell_type": "markdown",
   "metadata": {},
   "source": [
    "Snake Game"
   ]
  },
  {
   "cell_type": "markdown",
   "metadata": {},
   "source": [
    "### Primeiro, importamos as bibliotecas necessárias.\n",
    "Verifique no código anterior um script para instalar as dependências necessárias (OpenGL e GLFW) antes de prosseguir."
   ]
  },
  {
   "cell_type": "code",
   "execution_count": 182,
   "metadata": {},
   "outputs": [],
   "source": [
    "import glfw\n",
    "from OpenGL.GL import *\n",
    "import OpenGL.GL.shaders\n",
    "import numpy as np\n",
    "from glfw import *"
   ]
  },
  {
   "cell_type": "markdown",
   "metadata": {},
   "source": [
    "### Inicializando janela"
   ]
  },
  {
   "cell_type": "code",
   "execution_count": 183,
   "metadata": {},
   "outputs": [],
   "source": [
    "glfw.init()\n",
    "glfw.window_hint(glfw.VISIBLE, glfw.FALSE);\n",
    "window = glfw.create_window(900, 900, \"Cobrinha\", None, None)\n",
    "glfw.make_context_current(window)"
   ]
  },
  {
   "cell_type": "markdown",
   "metadata": {},
   "source": [
    "### Capturando eventos de teclado e mouse"
   ]
  },
  {
   "cell_type": "code",
   "execution_count": 184,
   "metadata": {},
   "outputs": [],
   "source": [
    "def key_event(window,key,scancode,action,mods):\n",
    "    print('[key event] key=',key)\n",
    "    print('[key event] scancode=',scancode)\n",
    "    print('[key event] action=',action)\n",
    "    print('[key event] mods=',mods)\n",
    "    print('-------')\n",
    "    \n",
    "glfw.set_key_callback(window,key_event)\n",
    "\n",
    "def mouse_event(window,button,action,mods):\n",
    "    print('[mouse event] button=',button)\n",
    "    print('[mouse event] action=',action)\n",
    "    print('[mouse event] mods=',mods)\n",
    "    print('-------')\n",
    "glfw.set_mouse_button_callback(window,mouse_event)"
   ]
  },
  {
   "cell_type": "markdown",
   "metadata": {},
   "source": [
    "### GLSL (OpenGL Shading Language)\n",
    "\n",
    "Aqui veremos nosso primeiro código GLSL.\n",
    "\n",
    "É uma linguagem de shading de alto nível baseada na linguagem de programação C.\n",
    "\n",
    "Estamos escrevendo código GLSL como se \"strings\" de uma variável (mas podemos ler de arquivos texto). Esse código, depois, terá que ser compilado e linkado ao nosso programa. \n",
    "\n",
    "Iremos aprender GLSL conforme a necessidade do curso. Usarmos uma versão do GLSL mais antiga, compatível com muitos dispositivos."
   ]
  },
  {
   "cell_type": "markdown",
   "metadata": {},
   "source": [
    "### GLSL para Vertex Shader\n",
    "\n",
    "No Pipeline programável, podemos interagir com Vertex Shaders.\n",
    "\n",
    "No código abaixo, estamos fazendo o seguinte:\n",
    "\n",
    "* Definindo uma variável chamada position do tipo vec2.\n",
    "* Usamos vec2, pois nosso programa (na CPU) irá enviar apenas duas coordenadas para plotar um ponto. Podemos mandar três coordenadas (vec3) e até mesmo quatro coordenadas (vec4).\n",
    "* void main() é o ponto de entrada do nosso programa (função principal).\n",
    "* gl_Position é uma variável especial do GLSL. Variáveis que começam com 'gl_' são desse tipo. Nesse caso, determina a posição de um vértice. Observe que todo vértice tem 4 coordenadas, por isso nós combinamos nossa variável vec2 com uma variável vec4."
   ]
  },
  {
   "cell_type": "code",
   "execution_count": 185,
   "metadata": {},
   "outputs": [],
   "source": [
    "vertex_code = \"\"\"\n",
    "        attribute vec2 position;\n",
    "        uniform mat4 mat_transformation;\n",
    "        void main(){\n",
    "            gl_Position = mat_transformation * vec4(position,0.0,1.0);\n",
    "        }\n",
    "        \"\"\""
   ]
  },
  {
   "cell_type": "markdown",
   "metadata": {},
   "source": [
    "### GLSL para Fragment Shader\n",
    "\n",
    "No Pipeline programável, podemos interagir com Fragment Shaders.\n",
    "\n",
    "No código abaixo, estamos fazendo o seguinte:\n",
    "\n",
    "* void main() é o ponto de entrada do nosso programa (função principal).\n",
    "* gl_FragColor é uma variável especial do GLSL. Variáveis que começam com 'gl_' são desse tipo. Nesse caso, determina a cor de um fragmento. Nesse caso é um ponto, mas poderia ser outro objeto (ponto, linha, triangulos, etc)."
   ]
  },
  {
   "cell_type": "code",
   "execution_count": 186,
   "metadata": {},
   "outputs": [],
   "source": [
    "fragment_code = \"\"\"\n",
    "        uniform vec4 color;\n",
    "        void main(){\n",
    "            gl_FragColor = color;\n",
    "        }\n",
    "        \"\"\""
   ]
  },
  {
   "cell_type": "markdown",
   "metadata": {},
   "source": [
    "### Requisitando slot para a GPU para nossos programas Vertex e Fragment Shaders"
   ]
  },
  {
   "cell_type": "code",
   "execution_count": 187,
   "metadata": {},
   "outputs": [],
   "source": [
    "# Request a program and shader slots from GPU\n",
    "program  = glCreateProgram()\n",
    "vertex   = glCreateShader(GL_VERTEX_SHADER)\n",
    "fragment = glCreateShader(GL_FRAGMENT_SHADER)"
   ]
  },
  {
   "cell_type": "markdown",
   "metadata": {},
   "source": [
    "### Associando nosso código-fonte aos slots solicitados"
   ]
  },
  {
   "cell_type": "code",
   "execution_count": 188,
   "metadata": {},
   "outputs": [],
   "source": [
    "# Set shaders source\n",
    "glShaderSource(vertex, vertex_code)\n",
    "glShaderSource(fragment, fragment_code)"
   ]
  },
  {
   "cell_type": "markdown",
   "metadata": {},
   "source": [
    "### Compilando o Vertex Shader\n",
    "\n",
    "Se há algum erro em nosso programa Vertex Shader, nosso app para por aqui."
   ]
  },
  {
   "cell_type": "code",
   "execution_count": 189,
   "metadata": {},
   "outputs": [],
   "source": [
    "# Compile shaders\n",
    "glCompileShader(vertex)\n",
    "if not glGetShaderiv(vertex, GL_COMPILE_STATUS):\n",
    "    error = glGetShaderInfoLog(vertex).decode()\n",
    "    print(error)\n",
    "    raise RuntimeError(\"Erro de compilacao do Vertex Shader\")"
   ]
  },
  {
   "cell_type": "markdown",
   "metadata": {},
   "source": [
    "### Compilando o Fragment Shader\n",
    "\n",
    "Se há algum erro em nosso programa Fragment Shader, nosso app para por aqui."
   ]
  },
  {
   "cell_type": "code",
   "execution_count": 190,
   "metadata": {},
   "outputs": [],
   "source": [
    "glCompileShader(fragment)\n",
    "if not glGetShaderiv(fragment, GL_COMPILE_STATUS):\n",
    "    error = glGetShaderInfoLog(fragment).decode()\n",
    "    print(error)\n",
    "    raise RuntimeError(\"Erro de compilacao do Fragment Shader\")"
   ]
  },
  {
   "cell_type": "markdown",
   "metadata": {},
   "source": [
    "### Associando os programas compilado ao programa principal"
   ]
  },
  {
   "cell_type": "code",
   "execution_count": 191,
   "metadata": {},
   "outputs": [],
   "source": [
    "# Attach shader objects to the program\n",
    "glAttachShader(program, vertex)\n",
    "glAttachShader(program, fragment)"
   ]
  },
  {
   "cell_type": "markdown",
   "metadata": {},
   "source": [
    "### Linkagem do programa"
   ]
  },
  {
   "cell_type": "code",
   "execution_count": 192,
   "metadata": {},
   "outputs": [],
   "source": [
    "# Build program\n",
    "glLinkProgram(program)\n",
    "if not glGetProgramiv(program, GL_LINK_STATUS):\n",
    "    print(glGetProgramInfoLog(program))\n",
    "    raise RuntimeError('Linking error')\n",
    "    \n",
    "# Make program the default program\n",
    "glUseProgram(program)"
   ]
  },
  {
   "cell_type": "markdown",
   "metadata": {},
   "source": []
  },
  {
   "cell_type": "code",
   "execution_count": 193,
   "metadata": {},
   "outputs": [],
   "source": [
    "from enum import Enum\n",
    "\n",
    "class GameObjectType(Enum):\n",
    "    SNAKE, FOOD = list(range(2))\n",
    "\n",
    "class SnakeDirections(Enum):\n",
    "    UP = (0, 1)\n",
    "    DOWN = (0, -1)\n",
    "    RIGHT = (1, 0)\n",
    "    LEFT = (-1, 0)\n",
    "\n",
    "STD_SNAKE_SPEED = 0.0005\n",
    "SQUARE_SCALE = 0.1\n",
    "GRID_SIZE = int(2 / SQUARE_SCALE)\n",
    "FRAMERATE = 10\n",
    "\n",
    "board = [[False for _ in range(GRID_SIZE)] for _ in range(GRID_SIZE)]"
   ]
  },
  {
   "cell_type": "markdown",
   "metadata": {},
   "source": [
    "### Preparando dados para enviar a GPU\n",
    "\n",
    "Nesse momento, compilamos nossos Vertex e Program Shaders para que a GPU possa processá-los.\n",
    "\n",
    "Por outro lado, as informações de vértices geralmente estão na CPU e devem ser transmitidas para a GPU.\n"
   ]
  },
  {
   "cell_type": "markdown",
   "metadata": {},
   "source": [
    "### Aqui, temos as classes desenhadas para gerir o funcionamento do jogo."
   ]
  },
  {
   "cell_type": "code",
   "execution_count": 194,
   "metadata": {},
   "outputs": [],
   "source": [
    "def generate_square(coord_x: int, coord_y: int):\n",
    "    square = np.zeros(4, [(\"position\", np.float32, 2)])\n",
    "    square['position'] = [\n",
    "        (coord_x, coord_y),\n",
    "        (coord_x, coord_y + SQUARE_SCALE),\n",
    "        (coord_x + SQUARE_SCALE, coord_y),\n",
    "        (coord_x + SQUARE_SCALE, coord_y + SQUARE_SCALE)\n",
    "    ]\n",
    "    return square"
   ]
  },
  {
   "cell_type": "code",
   "execution_count": 195,
   "metadata": {},
   "outputs": [],
   "source": [
    "import collections\n",
    "from math import floor\n",
    "\n",
    "def lists_are_equal(a, b):\n",
    "    for first_element, second_element in a, b:\n",
    "        if first_element != second_element: return False\n",
    "    \n",
    "    return True\n",
    "\n",
    "class GameObject:\n",
    "    def __init__(self, obj_type: GameObjectType, coordinates: list[int, int]):\n",
    "        self.type = obj_type\n",
    "        self.square_vertices_matrix = generate_square(coordinates[0], coordinates[1])\n",
    "        self.coordinates = coordinates\n",
    "    \n",
    "    def get_type(self) -> GameObjectType:\n",
    "        return self.type\n",
    "    \n",
    "class Snake:\n",
    "    def __init__(self, coordinates: list[int, int]):\n",
    "        self.body: list[GameObject] = [GameObject(GameObjectType.SNAKE, coordinates)]\n",
    "        self.body_len = 1\n",
    "\n",
    "        self.snake_direction: tuple[int, int] = SnakeDirections.UP\n",
    "        self.head_coordinates = coordinates\n",
    "        \n",
    "    def update_direction(self, new_direction: tuple[int, int]):\n",
    "        self.snake_direction = new_direction\n",
    "    \n",
    "    def eat(self, food_position: list[int, int]) -> bool:\n",
    "        if lists_are_equal(self.head_coordinates, food_position):\n",
    "            self.body_len += 1\n",
    "            return True\n",
    "        \n",
    "        return False\n",
    "\n",
    "    def update_position(self):\n",
    "        # If no food has been eaten.\n",
    "        if self.body_len == len(self.body):\n",
    "            for i in range(len(self.body) - 1):\n",
    "                self.body[i].coordinates = self.body[i + 1].coordinates\n",
    "        \n",
    "            self.body[self.body_len - 1] = GameObject(GameObjectType.SNAKE, self.head_coordinates)\n",
    "        \n",
    "        else:\n",
    "            self.body.append(GameObject(GameObjectType.SNAKE, self.head_coordinates))\n",
    "\n",
    "        self.head_coordinates = [self.head_coordinates[i] * SQUARE_SCALE for i in range(2)]\n",
    "\n",
    "def spawn_food():\n",
    "    rand_x = int(np.random.random() * 20)\n",
    "    rand_y = int(np.random.random() * 20)\n",
    "\n",
    "    count = 0\n",
    "    while board[rand_x][rand_y] and count < GRID_SIZE ** 2:\n",
    "        rand_y += 1\n",
    "        if rand_y == GRID_SIZE:\n",
    "            rand_x += 1\n",
    "            rand_y = 0\n",
    "\n",
    "            if rand_x == GRID_SIZE:\n",
    "                rand_x = 0\n",
    "\n",
    "    board[rand_x][rand_y] = True\n",
    "\n",
    "    return GameObject(GameObjectType.FOOD, [rand_x / 10 - 1, rand_y / 10 - 1])"
   ]
  },
  {
   "cell_type": "markdown",
   "metadata": {},
   "source": [
    "### Para enviar nossos dados da CPU para a GPU, precisamos requisitar um slot."
   ]
  },
  {
   "cell_type": "code",
   "execution_count": 196,
   "metadata": {},
   "outputs": [],
   "source": [
    "# Request a buffer slot from GPU\n",
    "buffer = glGenBuffers(1)\n",
    "# Make this buffer the default one\n",
    "glBindBuffer(GL_ARRAY_BUFFER, buffer)"
   ]
  },
  {
   "cell_type": "markdown",
   "metadata": {},
   "source": [
    "### Abaixo, enviamos todo o conteúdo da variável vertices.\n",
    "\n",
    "Veja os parâmetros da função glBufferData [https://www.khronos.org/registry/OpenGL-Refpages/gl4/html/glBufferData.xhtml]"
   ]
  },
  {
   "cell_type": "code",
   "execution_count": 197,
   "metadata": {},
   "outputs": [
    {
     "ename": "NameError",
     "evalue": "name 'vertices' is not defined",
     "output_type": "error",
     "traceback": [
      "\u001b[0;31m---------------------------------------------------------------------------\u001b[0m",
      "\u001b[0;31mNameError\u001b[0m                                 Traceback (most recent call last)",
      "Cell \u001b[0;32mIn[197], line 2\u001b[0m\n\u001b[1;32m      1\u001b[0m \u001b[39m# Upload data\u001b[39;00m\n\u001b[0;32m----> 2\u001b[0m glBufferData(GL_ARRAY_BUFFER, vertices\u001b[39m.\u001b[39mnbytes, vertices, GL_DYNAMIC_DRAW)\n\u001b[1;32m      3\u001b[0m glBindBuffer(GL_ARRAY_BUFFER, buffer)\n",
      "\u001b[0;31mNameError\u001b[0m: name 'vertices' is not defined"
     ]
    },
    {
     "ename": "",
     "evalue": "",
     "output_type": "error",
     "traceback": [
      "\u001b[1;31mO Kernel falhou ao executar o código na célula atual ou em uma célula anterior. Examine o código nas células para identificar uma possível causa da falha. Clique <a href=\"https://aka.ms/vscodeJupyterKernelCrash\">aqui</a> para obter mais informações. Consulte o <a href='command:jupyter.viewOutput'>log</a> do Jupyter para obter mais detalhes."
     ]
    }
   ],
   "source": [
    "# Upload data\n",
    "glBufferData(GL_ARRAY_BUFFER, vertices.nbytes, vertices, GL_DYNAMIC_DRAW)\n",
    "glBindBuffer(GL_ARRAY_BUFFER, buffer)"
   ]
  },
  {
   "cell_type": "markdown",
   "metadata": {},
   "source": [
    "### Associando variáveis do programa GLSL (Vertex Shaders) com nossos dados\n",
    "\n",
    "Primeiro, definimos o byte inicial e o offset dos dados."
   ]
  },
  {
   "cell_type": "code",
   "execution_count": null,
   "metadata": {},
   "outputs": [],
   "source": [
    "# Bind the position attribute\n",
    "# --------------------------------------\n",
    "stride = vertices.strides[0]\n",
    "offset = ctypes.c_void_p(0)"
   ]
  },
  {
   "cell_type": "markdown",
   "metadata": {},
   "source": [
    "Em seguida, soliciamos à GPU a localização da variável \"position\" (que guarda coordenadas dos nossos vértices). Definimos essa variável no Vertex Shader."
   ]
  },
  {
   "cell_type": "code",
   "execution_count": null,
   "metadata": {},
   "outputs": [],
   "source": [
    "loc = glGetAttribLocation(program, \"position\")\n",
    "glEnableVertexAttribArray(loc)"
   ]
  },
  {
   "cell_type": "markdown",
   "metadata": {},
   "source": [
    "A partir da localização anterior, indicamos à GPU onde está o conteúdo (via posições stride/offset) para a variável position (aqui identificada na posição loc).\n",
    "\n",
    "Outros parâmetros:\n",
    "\n",
    "* Definimos que possui duas coordenadas\n",
    "* Que cada coordenada é do tipo float (GL_FLOAT)\n",
    "* Que não se deve normalizar a coordenada (False)\n",
    "\n",
    "Mais detalhes: https://www.khronos.org/registry/OpenGL-Refpages/gl4/html/glVertexAttribPointer.xhtml"
   ]
  },
  {
   "cell_type": "code",
   "execution_count": null,
   "metadata": {},
   "outputs": [],
   "source": [
    "glVertexAttribPointer(loc, 2, GL_FLOAT, False, stride, offset)"
   ]
  },
  {
   "cell_type": "code",
   "execution_count": null,
   "metadata": {},
   "outputs": [],
   "source": [
    "loc_color = glGetUniformLocation(program, \"color\")"
   ]
  },
  {
   "cell_type": "markdown",
   "metadata": {},
   "source": [
    "### Nesse momento, exibimos a janela.\n"
   ]
  },
  {
   "cell_type": "code",
   "execution_count": null,
   "metadata": {},
   "outputs": [],
   "source": [
    "glfw.show_window(window)"
   ]
  },
  {
   "cell_type": "markdown",
   "metadata": {},
   "source": [
    "### Loop principal da janela.\n",
    "Enquanto a janela não for fechada, esse laço será executado. É neste espaço que trabalhamos com algumas interações com a OpenGL.\n",
    "\n",
    "A novidade agora é a função glDrawArrays().\n",
    "\n",
    "Tal função recebe o tipo de primitiva (GL_TRIANGLES), o índice inicial do array de vértices (vamos mostrar todos os três vértices, por isso começamos com 0) e a quantidade de vértices ( len(vertices) )."
   ]
  },
  {
   "cell_type": "code",
   "execution_count": null,
   "metadata": {},
   "outputs": [],
   "source": [
    "def renderfps(framerate):\n",
    "    global lastTime\n",
    "              \n",
    "#     currentTime = glfwGetTime(); \n",
    "    print(currentTime)\n",
    "\n",
    "    if currentTime - lastTime >= 1.0 / framerate:\n",
    "        lastTime = currentTime;\n",
    "        return True\n",
    "    return False\n"
   ]
  },
  {
   "cell_type": "code",
   "execution_count": null,
   "metadata": {},
   "outputs": [
    {
     "data": {
      "text/plain": [
       "<function __main__.key_event(window, key, scancode, action, mods)>"
      ]
     },
     "execution_count": 162,
     "metadata": {},
     "output_type": "execute_result"
    }
   ],
   "source": [
    "def key_event(window,key,scancode,action,mods):\n",
    "    if (action==1 or action==2):\n",
    "        if key == 87: # tecla W\n",
    "            # snake.update_direction(UP)    \n",
    "            pass\n",
    "\n",
    "        elif key == 83: # tecla S\n",
    "            # snake.update_direction(DOWN)\n",
    "            pass\n",
    "            \n",
    "        elif key == 65: # tecla A\n",
    "            # snake.update_direction(LEFT)\n",
    "            pass\n",
    "\n",
    "        elif key == 68: # tecla D\n",
    "            # snake.update_direction(RIGHT) \n",
    "            pass\n",
    "       \n",
    "    print('[key event] key=',key)\n",
    "    print('[key event] scancode=',scancode)\n",
    "    print('[key event] action=',action)\n",
    "    print('[key event] mods=',mods)\n",
    "    print('-------')\n",
    "    \n",
    "\n",
    "glfw.set_key_callback(window,key_event)"
   ]
  },
  {
   "cell_type": "code",
   "execution_count": null,
   "metadata": {},
   "outputs": [],
   "source": [
    "def mat_translate(x, y):\n",
    "    return np.array([1.0, 0.0, 0.0, x,\n",
    "                     0.0, 1.0, 0.0, y,\n",
    "                     0.0, 0.0, 1.0, 0.0,\n",
    "                     0.0, 0.0, 0.0, 1.0\n",
    "                     ], np.float32)\n",
    "\n",
    "mat_transform = mat_translate(0, 0) "
   ]
  },
  {
   "cell_type": "code",
   "execution_count": null,
   "metadata": {},
   "outputs": [
    {
     "name": "stdout",
     "output_type": "stream",
     "text": [
      "[mouse event] button= 0\n",
      "[mouse event] action= 1\n",
      "[mouse event] mods= 0\n",
      "-------\n",
      "[key event] key= 68\n",
      "[key event] scancode= 32\n",
      "[key event] action= 1\n",
      "[key event] mods= 0\n",
      "-------\n",
      "[mouse event] button= 0\n",
      "[mouse event] action= 0\n",
      "[mouse event] mods= 0\n",
      "-------\n",
      "[key event] key= 68\n",
      "[key event] scancode= 32\n",
      "[key event] action= 0\n",
      "[key event] mods= 0\n",
      "-------\n",
      "[key event] key= 87\n",
      "[key event] scancode= 17\n",
      "[key event] action= 1\n",
      "[key event] mods= 0\n",
      "-------\n",
      "[key event] key= 87\n",
      "[key event] scancode= 17\n",
      "[key event] action= 0\n",
      "[key event] mods= 0\n",
      "-------\n",
      "[key event] key= 65\n",
      "[key event] scancode= 30\n",
      "[key event] action= 1\n",
      "[key event] mods= 0\n",
      "-------\n",
      "[key event] key= 65\n",
      "[key event] scancode= 30\n",
      "[key event] action= 0\n",
      "[key event] mods= 0\n",
      "-------\n",
      "[key event] key= 83\n",
      "[key event] scancode= 31\n",
      "[key event] action= 1\n",
      "[key event] mods= 0\n",
      "-------\n",
      "[key event] key= 83\n",
      "[key event] scancode= 31\n",
      "[key event] action= 0\n",
      "[key event] mods= 0\n",
      "-------\n",
      "[key event] key= 68\n",
      "[key event] scancode= 32\n",
      "[key event] action= 1\n",
      "[key event] mods= 0\n",
      "-------\n",
      "[key event] key= 68\n",
      "[key event] scancode= 32\n",
      "[key event] action= 0\n",
      "[key event] mods= 0\n",
      "-------\n",
      "[key event] key= 87\n",
      "[key event] scancode= 17\n",
      "[key event] action= 1\n",
      "[key event] mods= 0\n",
      "-------\n",
      "[key event] key= 87\n",
      "[key event] scancode= 17\n",
      "[key event] action= 0\n",
      "[key event] mods= 0\n",
      "-------\n",
      "[key event] key= 65\n",
      "[key event] scancode= 30\n",
      "[key event] action= 1\n",
      "[key event] mods= 0\n",
      "-------\n",
      "[key event] key= 65\n",
      "[key event] scancode= 30\n",
      "[key event] action= 0\n",
      "[key event] mods= 0\n",
      "-------\n",
      "[key event] key= 83\n",
      "[key event] scancode= 31\n",
      "[key event] action= 1\n",
      "[key event] mods= 0\n",
      "-------\n",
      "[key event] key= 83\n",
      "[key event] scancode= 31\n",
      "[key event] action= 0\n",
      "[key event] mods= 0\n",
      "-------\n",
      "[key event] key= 68\n",
      "[key event] scancode= 32\n",
      "[key event] action= 1\n",
      "[key event] mods= 0\n",
      "-------\n",
      "[key event] key= 68\n",
      "[key event] scancode= 32\n",
      "[key event] action= 0\n",
      "[key event] mods= 0\n",
      "-------\n",
      "[key event] key= 83\n",
      "[key event] scancode= 31\n",
      "[key event] action= 1\n",
      "[key event] mods= 0\n",
      "-------\n",
      "[key event] key= 83\n",
      "[key event] scancode= 31\n",
      "[key event] action= 0\n",
      "[key event] mods= 0\n",
      "-------\n",
      "[key event] key= 65\n",
      "[key event] scancode= 30\n",
      "[key event] action= 1\n",
      "[key event] mods= 0\n",
      "-------\n",
      "[key event] key= 65\n",
      "[key event] scancode= 30\n",
      "[key event] action= 0\n",
      "[key event] mods= 0\n",
      "-------\n",
      "[key event] key= 87\n",
      "[key event] scancode= 17\n",
      "[key event] action= 1\n",
      "[key event] mods= 0\n",
      "-------\n",
      "[key event] key= 87\n",
      "[key event] scancode= 17\n",
      "[key event] action= 0\n",
      "[key event] mods= 0\n",
      "-------\n",
      "[key event] key= 68\n",
      "[key event] scancode= 32\n",
      "[key event] action= 1\n",
      "[key event] mods= 0\n",
      "-------\n",
      "[key event] key= 68\n",
      "[key event] scancode= 32\n",
      "[key event] action= 0\n",
      "[key event] mods= 0\n",
      "-------\n",
      "[key event] key= 83\n",
      "[key event] scancode= 31\n",
      "[key event] action= 1\n",
      "[key event] mods= 0\n",
      "-------\n",
      "[key event] key= 83\n",
      "[key event] scancode= 31\n",
      "[key event] action= 0\n",
      "[key event] mods= 0\n",
      "-------\n",
      "[key event] key= 68\n",
      "[key event] scancode= 32\n",
      "[key event] action= 1\n",
      "[key event] mods= 0\n",
      "-------\n",
      "[key event] key= 68\n",
      "[key event] scancode= 32\n",
      "[key event] action= 0\n",
      "[key event] mods= 0\n",
      "-------\n",
      "[key event] key= 83\n",
      "[key event] scancode= 31\n",
      "[key event] action= 1\n",
      "[key event] mods= 0\n",
      "-------\n",
      "[key event] key= 83\n",
      "[key event] scancode= 31\n",
      "[key event] action= 0\n",
      "[key event] mods= 0\n",
      "-------\n",
      "[key event] key= 68\n",
      "[key event] scancode= 32\n",
      "[key event] action= 1\n",
      "[key event] mods= 0\n",
      "-------\n",
      "[key event] key= 68\n",
      "[key event] scancode= 32\n",
      "[key event] action= 0\n",
      "[key event] mods= 0\n",
      "-------\n",
      "[key event] key= 83\n",
      "[key event] scancode= 31\n",
      "[key event] action= 1\n",
      "[key event] mods= 0\n",
      "-------\n",
      "[key event] key= 83\n",
      "[key event] scancode= 31\n",
      "[key event] action= 0\n",
      "[key event] mods= 0\n",
      "-------\n",
      "[key event] key= 83\n",
      "[key event] scancode= 31\n",
      "[key event] action= 1\n",
      "[key event] mods= 0\n",
      "-------\n",
      "[key event] key= 83\n",
      "[key event] scancode= 31\n",
      "[key event] action= 0\n",
      "[key event] mods= 0\n",
      "-------\n",
      "[key event] key= 68\n",
      "[key event] scancode= 32\n",
      "[key event] action= 1\n",
      "[key event] mods= 0\n",
      "-------\n",
      "[key event] key= 68\n",
      "[key event] scancode= 32\n",
      "[key event] action= 0\n",
      "[key event] mods= 0\n",
      "-------\n",
      "[key event] key= 83\n",
      "[key event] scancode= 31\n",
      "[key event] action= 1\n",
      "[key event] mods= 0\n",
      "-------\n",
      "[key event] key= 83\n",
      "[key event] scancode= 31\n",
      "[key event] action= 0\n",
      "[key event] mods= 0\n",
      "-------\n",
      "[key event] key= 68\n",
      "[key event] scancode= 32\n",
      "[key event] action= 1\n",
      "[key event] mods= 0\n",
      "-------\n",
      "[key event] key= 68\n",
      "[key event] scancode= 32\n",
      "[key event] action= 0\n",
      "[key event] mods= 0\n",
      "-------\n",
      "[key event] key= 83\n",
      "[key event] scancode= 31\n",
      "[key event] action= 1\n",
      "[key event] mods= 0\n",
      "-------\n",
      "[key event] key= 83\n",
      "[key event] scancode= 31\n",
      "[key event] action= 0\n",
      "[key event] mods= 0\n",
      "-------\n",
      "[key event] key= 65\n",
      "[key event] scancode= 30\n",
      "[key event] action= 1\n",
      "[key event] mods= 0\n",
      "-------\n",
      "[key event] key= 65\n",
      "[key event] scancode= 30\n",
      "[key event] action= 0\n",
      "[key event] mods= 0\n",
      "-------\n",
      "[key event] key= 87\n",
      "[key event] scancode= 17\n",
      "[key event] action= 1\n",
      "[key event] mods= 0\n",
      "-------\n",
      "[key event] key= 87\n",
      "[key event] scancode= 17\n",
      "[key event] action= 0\n",
      "[key event] mods= 0\n",
      "-------\n",
      "[key event] key= 340\n",
      "[key event] scancode= 42\n",
      "[key event] action= 1\n",
      "[key event] mods= 1\n",
      "-------\n",
      "[key event] key= 340\n",
      "[key event] scancode= 42\n",
      "[key event] action= 0\n",
      "[key event] mods= 0\n",
      "-------\n",
      "[key event] key= 68\n",
      "[key event] scancode= 32\n",
      "[key event] action= 1\n",
      "[key event] mods= 0\n",
      "-------\n",
      "[key event] key= 68\n",
      "[key event] scancode= 32\n",
      "[key event] action= 0\n",
      "[key event] mods= 0\n",
      "-------\n",
      "[key event] key= 83\n",
      "[key event] scancode= 31\n",
      "[key event] action= 1\n",
      "[key event] mods= 0\n",
      "-------\n",
      "[key event] key= 83\n",
      "[key event] scancode= 31\n",
      "[key event] action= 0\n",
      "[key event] mods= 0\n",
      "-------\n",
      "[key event] key= 65\n",
      "[key event] scancode= 30\n",
      "[key event] action= 1\n",
      "[key event] mods= 0\n",
      "-------\n",
      "[key event] key= 65\n",
      "[key event] scancode= 30\n",
      "[key event] action= 0\n",
      "[key event] mods= 0\n",
      "-------\n",
      "[key event] key= 87\n",
      "[key event] scancode= 17\n",
      "[key event] action= 1\n",
      "[key event] mods= 0\n",
      "-------\n",
      "[key event] key= 87\n",
      "[key event] scancode= 17\n",
      "[key event] action= 0\n",
      "[key event] mods= 0\n",
      "-------\n",
      "[key event] key= 68\n",
      "[key event] scancode= 32\n",
      "[key event] action= 1\n",
      "[key event] mods= 0\n",
      "-------\n",
      "[key event] key= 68\n",
      "[key event] scancode= 32\n",
      "[key event] action= 0\n",
      "[key event] mods= 0\n",
      "-------\n",
      "[key event] key= 83\n",
      "[key event] scancode= 31\n",
      "[key event] action= 1\n",
      "[key event] mods= 0\n",
      "-------\n",
      "[key event] key= 83\n",
      "[key event] scancode= 31\n",
      "[key event] action= 0\n",
      "[key event] mods= 0\n",
      "-------\n",
      "[key event] key= 68\n",
      "[key event] scancode= 32\n",
      "[key event] action= 1\n",
      "[key event] mods= 0\n",
      "-------\n",
      "[key event] key= 68\n",
      "[key event] scancode= 32\n",
      "[key event] action= 0\n",
      "[key event] mods= 0\n",
      "-------\n"
     ]
    }
   ],
   "source": [
    "while not glfw.window_should_close(window):\n",
    "\n",
    "    global mat_transform\n",
    "    \n",
    "    glfw.poll_events() \n",
    "    \n",
    "#     glPolygonMode(GL_FRONT_AND_BACK,GL_LINE) ## ative esse comando para enxergar os triângulos\n",
    "    glClear(GL_COLOR_BUFFER_BIT) \n",
    "    glClearColor(1.0, 1.0, 1.0, 1.0)\n",
    "    if i % 100 == 0:\n",
    "        update() \n",
    "    i += 1\n",
    "    \n",
    "    mat_transform = mat_translate(pos_x, pos_y)\n",
    "    \n",
    "    loc = glGetUniformLocation(program, \"mat_transformation\")\n",
    "    glUniformMatrix4fv(loc, 1, GL_TRUE, mat_transform)\n",
    "    \n",
    "    glUniform4f(loc_color, 0, 1, 0, 1.0) ### verde\n",
    "    glDrawArrays(GL_TRIANGLE_STRIP, 0, 4) ### wormHead\n",
    "    \n",
    "    mat_food = np.eye(4)\n",
    "    loc = glGetUniformLocation(program, \"mat_transformation\")\n",
    "    glUniformMatrix4fv(loc, 1, GL_TRUE, mat_food)\n",
    "    \n",
    "    glUniform4f(loc_color, 1, 0, 0, 0.5) ### vermelho\n",
    "    glDrawArrays(GL_TRIANGLE_STRIP, 4, 4) ### Food\n",
    "\n",
    "    glfw.swap_buffers(window)\n",
    "\n",
    "glfw.terminate()"
   ]
  },
  {
   "cell_type": "code",
   "execution_count": null,
   "metadata": {},
   "outputs": [],
   "source": []
  }
 ],
 "metadata": {
  "finalized": {
   "timestamp": 1583114796072,
   "trusted": true
  },
  "kernelspec": {
   "display_name": "Python 3.10.6 64-bit",
   "language": "python",
   "name": "python3"
  },
  "language_info": {
   "codemirror_mode": {
    "name": "ipython",
    "version": 3
   },
   "file_extension": ".py",
   "mimetype": "text/x-python",
   "name": "python",
   "nbconvert_exporter": "python",
   "pygments_lexer": "ipython3",
   "version": "3.10.6"
  },
  "vscode": {
   "interpreter": {
    "hash": "aee8b7b246df8f9039afb4144a1f6fd8d2ca17a180786b69acc140d282b71a49"
   }
  }
 },
 "nbformat": 4,
 "nbformat_minor": 2
}

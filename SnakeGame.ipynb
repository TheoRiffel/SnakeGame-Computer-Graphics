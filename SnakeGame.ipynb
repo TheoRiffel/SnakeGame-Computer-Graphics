{
 "cells": [
  {
   "cell_type": "markdown",
   "metadata": {},
   "source": [
    "Snake Game"
   ]
  },
  {
   "cell_type": "markdown",
   "metadata": {},
   "source": [
    "### Primeiro, importamos as bibliotecas necessárias.\n",
    "Verifique no código anterior um script para instalar as dependências necessárias (OpenGL e GLFW) antes de prosseguir."
   ]
  },
  {
   "cell_type": "code",
   "execution_count": 1,
   "metadata": {},
   "outputs": [],
   "source": [
    "import glfw\n",
    "from OpenGL.GL import *\n",
    "import numpy as np\n",
    "from glfw import *\n",
    "from time import sleep"
   ]
  },
  {
   "cell_type": "markdown",
   "metadata": {},
   "source": [
    "### Inicializando janela"
   ]
  },
  {
   "cell_type": "code",
   "execution_count": 2,
   "metadata": {},
   "outputs": [],
   "source": [
    "glfw.init()\n",
    "glfw.window_hint(glfw.VISIBLE, glfw.FALSE);\n",
    "window = glfw.create_window(900, 900, \"Cobrinha\", None, None)\n",
    "glfw.make_context_current(window)"
   ]
  },
  {
   "cell_type": "markdown",
   "metadata": {},
   "source": [
    "#### Inicializando os shaders de vertices e de formação das primitivas geométricas (objetos na tela)"
   ]
  },
  {
   "cell_type": "code",
   "execution_count": 3,
   "metadata": {},
   "outputs": [],
   "source": [
    "vertex_code = \"\"\"\n",
    "        attribute vec2 position;\n",
    "        uniform mat4 mat_transformation;\n",
    "        void main(){\n",
    "            gl_Position = mat_transformation * vec4(position,0.0,1.0);\n",
    "        }\n",
    "        \"\"\""
   ]
  },
  {
   "cell_type": "code",
   "execution_count": 4,
   "metadata": {},
   "outputs": [],
   "source": [
    "fragment_code = \"\"\"\n",
    "        uniform vec4 color;\n",
    "        void main(){\n",
    "            gl_FragColor = color;\n",
    "        }\n",
    "        \"\"\""
   ]
  },
  {
   "cell_type": "markdown",
   "metadata": {},
   "source": [
    "### Requisitando slot para a GPU para nossos programas Vertex e Fragment Shaders"
   ]
  },
  {
   "cell_type": "code",
   "execution_count": 5,
   "metadata": {},
   "outputs": [],
   "source": [
    "# Request a program and shader slots from GPU\n",
    "program  = glCreateProgram()\n",
    "vertex   = glCreateShader(GL_VERTEX_SHADER)\n",
    "fragment = glCreateShader(GL_FRAGMENT_SHADER)"
   ]
  },
  {
   "cell_type": "markdown",
   "metadata": {},
   "source": [
    "### Associando nosso código-fonte aos slots solicitados"
   ]
  },
  {
   "cell_type": "code",
   "execution_count": 6,
   "metadata": {},
   "outputs": [],
   "source": [
    "# Set shaders source\n",
    "glShaderSource(vertex, vertex_code)\n",
    "glShaderSource(fragment, fragment_code)"
   ]
  },
  {
   "cell_type": "markdown",
   "metadata": {},
   "source": [
    "### Compilando o Vertex Shader\n"
   ]
  },
  {
   "cell_type": "code",
   "execution_count": 7,
   "metadata": {},
   "outputs": [],
   "source": [
    "# Compile shaders\n",
    "glCompileShader(vertex)\n",
    "if not glGetShaderiv(vertex, GL_COMPILE_STATUS):\n",
    "    error = glGetShaderInfoLog(vertex).decode()\n",
    "    print(error)\n",
    "    raise RuntimeError(\"Erro de compilacao do Vertex Shader\")"
   ]
  },
  {
   "cell_type": "markdown",
   "metadata": {},
   "source": [
    "### Compilando o Fragment Shader\n"
   ]
  },
  {
   "cell_type": "code",
   "execution_count": 8,
   "metadata": {},
   "outputs": [],
   "source": [
    "glCompileShader(fragment)\n",
    "if not glGetShaderiv(fragment, GL_COMPILE_STATUS):\n",
    "    error = glGetShaderInfoLog(fragment).decode()\n",
    "    print(error)\n",
    "    raise RuntimeError(\"Erro de compilacao do Fragment Shader\")"
   ]
  },
  {
   "cell_type": "markdown",
   "metadata": {},
   "source": [
    "### Associando os programas compilado ao programa principal"
   ]
  },
  {
   "cell_type": "code",
   "execution_count": 9,
   "metadata": {},
   "outputs": [],
   "source": [
    "# Attach shader objects to the program\n",
    "glAttachShader(program, vertex)\n",
    "glAttachShader(program, fragment)"
   ]
  },
  {
   "cell_type": "markdown",
   "metadata": {},
   "source": [
    "### Linkagem do programa"
   ]
  },
  {
   "cell_type": "code",
   "execution_count": 10,
   "metadata": {},
   "outputs": [],
   "source": [
    "# Build program\n",
    "glLinkProgram(program)\n",
    "if not glGetProgramiv(program, GL_LINK_STATUS):\n",
    "    print(glGetProgramInfoLog(program))\n",
    "    raise RuntimeError('Linking error')\n",
    "    \n",
    "# Make program the default program\n",
    "glUseProgram(program)"
   ]
  },
  {
   "cell_type": "code",
   "execution_count": 11,
   "metadata": {},
   "outputs": [],
   "source": [
    "from enum import Enum\n",
    "\n",
    "class GameObjectType(Enum):\n",
    "    SNAKE, FOOD = list(range(2))\n",
    "\n",
    "UP = [0, 1]\n",
    "DOWN = [0, -1]\n",
    "RIGHT = [1, 0]\n",
    "LEFT = [-1, 0]\n",
    "\n",
    "STD_SNAKE_SPEED = 0.0005\n",
    "SQUARE_SCALE = 0.1\n",
    "GRID_SIZE = int(2 / SQUARE_SCALE)\n",
    "FRAMERATE = 4"
   ]
  },
  {
   "cell_type": "markdown",
   "metadata": {},
   "source": [
    "## Preparando dados para enviar a GPU\n",
    "\n",
    "Nesse momento, compilamos nossos Vertex e Program Shaders para que a GPU possa processá-los.\n",
    "\n",
    "Por outro lado, as informações de vértices geralmente estão na CPU e devem ser transmitidas para a GPU.\n"
   ]
  },
  {
   "cell_type": "markdown",
   "metadata": {},
   "source": [
    "### Aqui, temos as classes desenhadas para gerir o funcionamento do jogo."
   ]
  },
  {
   "cell_type": "code",
   "execution_count": 12,
   "metadata": {},
   "outputs": [],
   "source": [
    "def generate_square(coord_x: int, coord_y: int):\n",
    "    square = np.zeros(4, [(\"position\", np.float32, 2)])\n",
    "    square['position'] = [\n",
    "        (coord_x, coord_y),\n",
    "        (coord_x, coord_y + SQUARE_SCALE),\n",
    "        (coord_x + SQUARE_SCALE, coord_y),\n",
    "        (coord_x + SQUARE_SCALE, coord_y + SQUARE_SCALE)\n",
    "    ]\n",
    "    return square"
   ]
  },
  {
   "cell_type": "code",
   "execution_count": 13,
   "metadata": {},
   "outputs": [],
   "source": [
    "class GameObject:\n",
    "    def __init__(self, obj_type: GameObjectType, coordinates: list[int, int]):\n",
    "        self.type = obj_type\n",
    "        self.square_vertices_matrix = generate_square(coordinates[0], coordinates[1])\n",
    "        self.coordinates = coordinates\n",
    "    \n",
    "    def get_type(self) -> GameObjectType:\n",
    "        return self.type\n",
    "    \n",
    "class Snake:\n",
    "    def __init__(self, coordinates: list[int, int]):\n",
    "        self.body: list[GameObject] = [GameObject(GameObjectType.SNAKE, coordinates)]\n",
    "        self.body_len = 1\n",
    "\n",
    "        self.snake_direction: tuple[int, int] = UP\n",
    "        self.head_coordinates = coordinates\n",
    "        \n",
    "    def update_direction(self, new_direction: tuple[int, int]):\n",
    "        self.snake_direction = new_direction\n",
    "    \n",
    "    def eat(self, food_position: list[int, int]) -> bool:\n",
    "        if self.head_coordinates[0] == food_position[0] and self.head_coordinates[1] == food_position[1]:\n",
    "            self.body_len += 1\n",
    "            return True\n",
    "        \n",
    "        return False\n",
    "    \n",
    "    def hit(self) -> bool:\n",
    "        for i in range(1, len(self.body)):\n",
    "            if self.head_coordinates[0] == self.body[i].coordinates[0] and \\\n",
    "                self.head_coordinates[1] == self.body[i].coordinates[1]:\n",
    "                \n",
    "                return True\n",
    "        \n",
    "        return False\n",
    "\n",
    "    def update_position(self):\n",
    "        # If no food has been eaten.\n",
    "        if self.body_len == len(self.body):\n",
    "            for i in range(len(self.body) - 1):\n",
    "                self.body[i].coordinates = self.body[i + 1].coordinates\n",
    "        \n",
    "            self.body[self.body_len - 1] = GameObject(GameObjectType.SNAKE, self.head_coordinates)\n",
    "        \n",
    "        else:\n",
    "            self.body.append(GameObject(GameObjectType.SNAKE, self.head_coordinates))\n",
    "\n",
    "        self.head_coordinates = [round(self.head_coordinates[i] + self.snake_direction[i] * SQUARE_SCALE, 2) for i in range(2)]\n",
    "\n",
    "def new_food_coordinates():\n",
    "    rand_x = int(np.random.random() * 20)\n",
    "    rand_y = int(np.random.random() * 20)\n",
    "\n",
    "    return [round(rand_x / 10 - 1, 2), round(rand_y / 10 - 1, 2)]"
   ]
  },
  {
   "cell_type": "code",
   "execution_count": 14,
   "metadata": {},
   "outputs": [],
   "source": [
    "snake = Snake([0, 0])\n",
    "food = GameObject(GameObjectType.FOOD, (new_food_coordinates()))\n",
    "\n",
    "vertices = np.concatenate((snake.body[0].square_vertices_matrix, food.square_vertices_matrix))['position']"
   ]
  },
  {
   "cell_type": "markdown",
   "metadata": {},
   "source": [
    "### Para enviar nossos dados da CPU para a GPU, precisamos requisitar um slot."
   ]
  },
  {
   "cell_type": "code",
   "execution_count": 15,
   "metadata": {},
   "outputs": [],
   "source": [
    "# Request a buffer slot from GPU\n",
    "buffer = glGenBuffers(1)\n",
    "# Make this buffer the default one\n",
    "glBindBuffer(GL_ARRAY_BUFFER, buffer)"
   ]
  },
  {
   "cell_type": "markdown",
   "metadata": {},
   "source": [
    "### Abaixo, enviamos todo o conteúdo da variável vertices.\n",
    "\n",
    "Veja os parâmetros da função glBufferData [https://www.khronos.org/registry/OpenGL-Refpages/gl4/html/glBufferData.xhtml]"
   ]
  },
  {
   "cell_type": "code",
   "execution_count": 16,
   "metadata": {},
   "outputs": [],
   "source": [
    "# Upload data\n",
    "glBufferData(GL_ARRAY_BUFFER, vertices.nbytes, vertices, GL_DYNAMIC_DRAW)\n",
    "glBindBuffer(GL_ARRAY_BUFFER, buffer)"
   ]
  },
  {
   "cell_type": "markdown",
   "metadata": {},
   "source": [
    "### Associando variáveis do programa GLSL (Vertex Shaders) com nossos dados\n",
    "\n",
    "Primeiro, definimos o byte inicial e o offset dos dados."
   ]
  },
  {
   "cell_type": "code",
   "execution_count": 17,
   "metadata": {},
   "outputs": [],
   "source": [
    "# Bind the position attribute\n",
    "# --------------------------------------\n",
    "stride = vertices.strides[0]\n",
    "offset = ctypes.c_void_p(0)"
   ]
  },
  {
   "cell_type": "markdown",
   "metadata": {},
   "source": [
    "Em seguida, soliciamos à GPU a localização da variável \"position\" (que guarda coordenadas dos nossos vértices). Definimos essa variável no Vertex Shader."
   ]
  },
  {
   "cell_type": "code",
   "execution_count": 18,
   "metadata": {},
   "outputs": [],
   "source": [
    "loc = glGetAttribLocation(program, \"position\")\n",
    "glEnableVertexAttribArray(loc)"
   ]
  },
  {
   "cell_type": "markdown",
   "metadata": {},
   "source": [
    "A partir da localização anterior, indicamos à GPU onde está o conteúdo (via posições stride/offset) para a variável position (aqui identificada na posição loc).\n",
    "\n",
    "Outros parâmetros:\n",
    "\n",
    "* Definimos que possui duas coordenadas\n",
    "* Que cada coordenada é do tipo float (GL_FLOAT)\n",
    "* Que não se deve normalizar a coordenada (False)\n",
    "\n",
    "Mais detalhes: https://www.khronos.org/registry/OpenGL-Refpages/gl4/html/glVertexAttribPointer.xhtml"
   ]
  },
  {
   "cell_type": "code",
   "execution_count": 19,
   "metadata": {},
   "outputs": [],
   "source": [
    "glVertexAttribPointer(loc, 2, GL_FLOAT, False, stride, offset)"
   ]
  },
  {
   "cell_type": "code",
   "execution_count": 20,
   "metadata": {},
   "outputs": [],
   "source": [
    "loc_color = glGetUniformLocation(program, \"color\")"
   ]
  },
  {
   "cell_type": "markdown",
   "metadata": {},
   "source": [
    "### Nesse momento, exibimos a janela.\n"
   ]
  },
  {
   "cell_type": "code",
   "execution_count": 21,
   "metadata": {},
   "outputs": [],
   "source": [
    "glfw.show_window(window)"
   ]
  },
  {
   "cell_type": "markdown",
   "metadata": {},
   "source": [
    "- Aqui, temos a função que vai capturar e informar ao código quando um input for recebido do teclado."
   ]
  },
  {
   "cell_type": "code",
   "execution_count": 22,
   "metadata": {},
   "outputs": [],
   "source": [
    "def key_event(window,key,scancode,action,mods):\n",
    "    if (action==1 or action==2):\n",
    "        if key == 87 and snake.snake_direction != DOWN: # tecla W\n",
    "            snake.update_direction(UP)    \n",
    "\n",
    "        elif key == 83 and snake.snake_direction != UP: # tecla S\n",
    "            snake.update_direction(DOWN)    \n",
    "            \n",
    "        elif key == 65 and snake.snake_direction != RIGHT: # tecla A\n",
    "            snake.update_direction(LEFT)    \n",
    "\n",
    "        elif key == 68 and snake.snake_direction != LEFT: # tecla D\n",
    "            snake.update_direction(RIGHT)    \n",
    "    \n",
    "\n",
    "glfw.set_key_callback(window,key_event)"
   ]
  },
  {
   "cell_type": "markdown",
   "metadata": {},
   "source": [
    "### Aplicação das matrizes de transformação\n",
    "\n",
    "- Primeiro, define-se a matriz de translação baseado nas coordenadas passadas.\n",
    "\n",
    "- Em seguida, essa matriz será usada na função print_object() para imprimir os objetos na tela conforme eles se movimentam."
   ]
  },
  {
   "cell_type": "code",
   "execution_count": 23,
   "metadata": {},
   "outputs": [],
   "source": [
    "def mat_translate(x, y):\n",
    "    return np.array([[1.0, 0.0, 0.0, x],\n",
    "                     [0.0, 1.0, 0.0, y],\n",
    "                     [0.0, 0.0, 1.0, 0.0],\n",
    "                     [0.0, 0.0, 0.0, 1.0],\n",
    "                     ], np.float32)"
   ]
  },
  {
   "cell_type": "code",
   "execution_count": 24,
   "metadata": {},
   "outputs": [],
   "source": [
    "def print_object(coordinates: list, obj_type: GameObjectType):\n",
    "    global mat_transform_snake, mat_transform_food\n",
    "\n",
    "    loc = glGetUniformLocation(program, \"mat_transformation\")\n",
    "\n",
    "    if obj_type == GameObjectType.SNAKE:\n",
    "        mat_transform_snake = mat_translate(coordinates[0], coordinates[1])\n",
    "        glUniformMatrix4fv(loc, 1, GL_TRUE, mat_transform_snake)   \n",
    "        glDrawArrays(GL_TRIANGLE_STRIP, 0, 4)\n",
    "\n",
    "    elif obj_type == GameObjectType.FOOD:\n",
    "        mat_transform_food = mat_translate(coordinates[0], coordinates[1])\n",
    "        glUniformMatrix4fv(loc, 1, GL_TRUE, mat_transform_food)   \n",
    "        glDrawArrays(GL_TRIANGLE_STRIP, 0, 4)\n",
    "\n",
    "mat_transform_snake = mat_translate(snake.head_coordinates[0], snake.head_coordinates[1])\n",
    "mat_transform_food = mat_translate(food.coordinates[0], food.coordinates[1])"
   ]
  },
  {
   "cell_type": "markdown",
   "metadata": {},
   "source": [
    "### Loop de execução\n",
    "\n",
    "- O loop executará até que uma de tres condições sejam cumrpidas:\n",
    "    - A janela do jogo é fechada;\n",
    "    - A cobra acerta a si mesma;\n",
    "    - A cobra acerta a 'parede' da janela do jogo.\n",
    "\n",
    "- A primeira ação realizada a cada iteração é checar se a cobra comeu a maçã; caso isso aconteça, a cobra aumenta de tamanho e a maçã é aleatoriamente reposicionada.\n",
    "\n",
    "- Em seguida, desenha-se na tela todas as partes da cobrinha.\n",
    "\n",
    "- Por fim, desenha-se a maçã.\n",
    "\n",
    "- Assim, após um tempo de espera (para evitar que o jogo fique acelerado), a próxima iteração do loop é chamada."
   ]
  },
  {
   "cell_type": "code",
   "execution_count": 25,
   "metadata": {},
   "outputs": [],
   "source": [
    "while not glfw.window_should_close(window) and not snake.hit() \\\n",
    "    and -1.0 <= snake.head_coordinates[0] <= 0.9 and -1.0 <= snake.head_coordinates[1] <= 0.9:\n",
    "    \n",
    "    glfw.poll_events() \n",
    "    \n",
    "    glClear(GL_COLOR_BUFFER_BIT)\n",
    "    glClearColor(1.0, 1.0, 1.0, 1.0)\n",
    "\n",
    "    if snake.eat(food.coordinates):\n",
    "        food.coordinates = new_food_coordinates()\n",
    "\n",
    "    snake.update_position() \n",
    "\n",
    "    color_change = 0\n",
    "    color_increment = 0\n",
    "    for snake_part in snake.body:\n",
    "        glUniform4f(loc_color, 0, 1 - color_increment, 0, 0.5)\n",
    "        print_object(snake_part.coordinates, GameObjectType.SNAKE)\n",
    "        if color_change == 0:\n",
    "            color_increment += 0.05\n",
    "            if color_increment >= 0.5:\n",
    "                color_change = 1\n",
    "        else:\n",
    "            color_increment -= 0.05\n",
    "            if color_increment == 0.0:\n",
    "                color_change = 0\n",
    "        \n",
    "    \n",
    "    glUniform4f(loc_color, 1, 0, 0, 0.5)\n",
    "    print_object(food.coordinates, GameObjectType.FOOD)\n",
    "\n",
    "    glfw.swap_buffers(window)\n",
    "\n",
    "    sleep(1/FRAMERATE)\n",
    "\n",
    "glfw.terminate()"
   ]
  }
 ],
 "metadata": {
  "finalized": {
   "timestamp": 1583114796072,
   "trusted": true
  },
  "kernelspec": {
   "display_name": "Python 3.10.8 64-bit (microsoft store)",
   "language": "python",
   "name": "python3"
  },
  "language_info": {
   "codemirror_mode": {
    "name": "ipython",
    "version": 3
   },
   "file_extension": ".py",
   "mimetype": "text/x-python",
   "name": "python",
   "nbconvert_exporter": "python",
   "pygments_lexer": "ipython3",
   "version": "3.10.8"
  },
  "vscode": {
   "interpreter": {
    "hash": "5e06f1cc0076ad98224d2822c313294136835a605f667a60934dc99cba29f05f"
   }
  }
 },
 "nbformat": 4,
 "nbformat_minor": 2
}
